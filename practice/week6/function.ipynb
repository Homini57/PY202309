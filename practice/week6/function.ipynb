{
 "cells": [
  {
   "cell_type": "code",
   "execution_count": null,
   "id": "2e1ddc6b",
   "metadata": {},
   "outputs": [],
   "source": [
    "import random\n",
    "\n",
    "#1~ 47 사이의 임의의 수를 반환하는 함수\n",
    "def get_number():\n",
    "    return random.randrange(1, 46)\n",
    "\n",
    "#로또 배열, 임의의 수를 입력받을 변수\n",
    "lotto = []\n",
    "num = 0\n",
    "\n",
    "print(\"** start Lotto**\")\n",
    "\n",
    "#로또 배열에 임의의 수 6개 입력\n",
    "while True:\n",
    "    num = get_number()\n",
    "    \n",
    "    if lotto.count(num) == 0:\n",
    "        lotto.append(num)\n",
    "        \n",
    "    if len(lotto) >= 6:\n",
    "        break\n",
    "\n",
    "# 로또 배열 출력\n",
    "print(\"Number: \", end = ' ')\n",
    "lotto.sort()\n",
    "for number in lotto:\n",
    "    print(number, end=' ')"
   ]
  }
 ],
 "metadata": {
  "kernelspec": {
   "display_name": "Python 3 (ipykernel)",
   "language": "python",
   "name": "python3"
  },
  "language_info": {
   "codemirror_mode": {
    "name": "ipython",
    "version": 3
   },
   "file_extension": ".py",
   "mimetype": "text/x-python",
   "name": "python",
   "nbconvert_exporter": "python",
   "pygments_lexer": "ipython3",
   "version": "3.11.4"
  }
 },
 "nbformat": 4,
 "nbformat_minor": 5
}
