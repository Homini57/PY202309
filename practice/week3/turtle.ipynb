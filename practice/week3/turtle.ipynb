{
 "cells": [
  {
   "cell_type": "code",
   "execution_count": 3,
   "id": "3b9cb6b2",
   "metadata": {},
   "outputs": [
    {
     "name": "stdout",
     "output_type": "stream",
     "text": [
      "turtle bye!\n"
     ]
    }
   ],
   "source": [
    "import turtle\n",
    "t = turtle.Turtle()\n",
    "t.left(90)               #왼쪽으로 90도 회전\n",
    "\n",
    "word_freq = {\"apple\": 5, \"bannan\": 8, \"cherry\": 2, \"grape\": 1} #각 항목의 횟수\n",
    "\n",
    "x= -200                   #x축 -200에서 시작\n",
    "for word, freq in word_freq.items():                   #항목 개수만큼 반복\n",
    "    t.penup()             #펜을 들어올린다.\n",
    "    t.goto(x, 0)          #항목을 출력할 위치로 이동\n",
    "    \n",
    "    t.write(f\"{word}: {freq}\", font=(\"Arial\", 12, \"normal\"))      #그래프의 항목 출력\n",
    "    \n",
    "    t.goto(x,30)          #그래프를 그릴 위치로 이동\n",
    "    t.pendown()           #펜 내려놓기(그릴 준비 완료)\n",
    "    t.forward(freq * 10)  #그래프를 각 항목의 횟수만큼 그리기\n",
    "    \n",
    "    x += 100\n",
    "    \n",
    "turtle.done()\n",
    "try:\n",
    "    turtle.bye()\n",
    "except:\n",
    "    print(\"turtle bye!\")"
   ]
  },
  {
   "cell_type": "code",
   "execution_count": null,
   "id": "54fe3090",
   "metadata": {},
   "outputs": [],
   "source": []
  }
 ],
 "metadata": {
  "kernelspec": {
   "display_name": "Python 3 (ipykernel)",
   "language": "python",
   "name": "python3"
  },
  "language_info": {
   "codemirror_mode": {
    "name": "ipython",
    "version": 3
   },
   "file_extension": ".py",
   "mimetype": "text/x-python",
   "name": "python",
   "nbconvert_exporter": "python",
   "pygments_lexer": "ipython3",
   "version": "3.11.4"
  }
 },
 "nbformat": 4,
 "nbformat_minor": 5
}
