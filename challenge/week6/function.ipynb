{
 "cells": [
  {
   "cell_type": "code",
   "execution_count": 3,
   "id": "10727d2e",
   "metadata": {},
   "outputs": [
    {
     "ename": "IndentationError",
     "evalue": "expected an indented block after 'while' statement on line 9 (1688323401.py, line 10)",
     "output_type": "error",
     "traceback": [
      "\u001b[1;36m  Cell \u001b[1;32mIn[3], line 10\u001b[1;36m\u001b[0m\n\u001b[1;33m    num = get_number()\u001b[0m\n\u001b[1;37m    ^\u001b[0m\n\u001b[1;31mIndentationError\u001b[0m\u001b[1;31m:\u001b[0m expected an indented block after 'while' statement on line 9\n"
     ]
    }
   ],
   "source": [
    "import random\n",
    "\n",
    "def get_number():\n",
    "    return random.randrange(1, 46)\n",
    "\n",
    "def set_lotto_numbers():\n",
    "    lotto = []\n",
    "    num = 0\n",
    "    while True:\n",
    "    num = get_number()\n",
    "    \n",
    "    if lotto.count(num) == 0:\n",
    "        lotto.append(num)\n",
    "        \n",
    "    if len(lotto) >= 6:\n",
    "        break\n",
    "    return lotto\n",
    "\n",
    "def match_numbers(user_inputs, lotto_numbers):\n",
    "    same_numbers = []\n",
    "    for i in range(0,6):\n",
    "        for j in range(0,6):\n",
    "            if lotto_numbers[j] == user_inputs[i]\n",
    "            same_numbers.append(user_inputs[i])\n",
    "        return same_numbers\n",
    "\n",
    "def check_prize(same_numbers):\n",
    "    print(same_numbers.count(),\"prize!\") \n",
    "\n",
    "print(\"** start Lotto**\")\n",
    "print(\"1)SEt the lotto numbers\")\n",
    "lotto_numbers = set_lotto_numbers()\n",
    "\n",
    "\n",
    "\n",
    "print(\"2) Set the user input\")\n",
    "user_inputs = []\n",
    "while True:\n",
    "    num = int(inpput(\"Enter %d-number: \"% (len(user_inputs)+1)))\n",
    "    if num <1 num > 46:\n",
    "        print(\"NO valid number\")\n",
    "        continue\n",
    "    if user_inputs.count(num) == 0:\n",
    "        user_inputs.append(num)\n",
    "    else:\n",
    "        print(\"Same number\")\n",
    "        continue\n",
    "    if len(user_inputs) >= 6:\n",
    "        break\n",
    "\n",
    "print(\"3) Match the numbers\")\n",
    "same_numbers = match_numbers(user_inputs, lotto_numbers)\n",
    "\n",
    "print(\"4) Check the prize\")\n",
    "check_prize(same_numbers)\n",
    "\n",
    "print(\"5) Sort the list\")\n",
    "lotto_numbers.sort()\n",
    "user_inputs.sort()\n",
    "\n",
    "print(\"=== Summary ===\")\n",
    "print(\"Lotto numbers: \", *lotto_numbers)\n",
    "print(\"User numbers: \", *user_inputs)\n"
   ]
  },
  {
   "cell_type": "code",
   "execution_count": null,
   "id": "601c65d0",
   "metadata": {},
   "outputs": [],
   "source": []
  }
 ],
 "metadata": {
  "kernelspec": {
   "display_name": "Python 3 (ipykernel)",
   "language": "python",
   "name": "python3"
  },
  "language_info": {
   "codemirror_mode": {
    "name": "ipython",
    "version": 3
   },
   "file_extension": ".py",
   "mimetype": "text/x-python",
   "name": "python",
   "nbconvert_exporter": "python",
   "pygments_lexer": "ipython3",
   "version": "3.11.4"
  }
 },
 "nbformat": 4,
 "nbformat_minor": 5
}
