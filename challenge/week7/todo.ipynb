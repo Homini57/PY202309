{
 "cells": [
  {
   "cell_type": "code",
   "execution_count": 4,
   "id": "5269540e",
   "metadata": {},
   "outputs": [
    {
     "name": "stdout",
     "output_type": "stream",
     "text": [
      "\n",
      "할일 관리 프로그램\n",
      "1. 할일 추가\n",
      "2. 할일 목록 표시\n",
      "3. 종료\n",
      "선택: 3\n",
      "프로그램을 종료합니다.\n"
     ]
    }
   ],
   "source": [
    "#파일에 할일 추가\n",
    "def add_task(task_list, task):\n",
    "    task_list.append(task)\n",
    "#파일 내 할일 목록 표시\n",
    "def display_tasks(task_list):\n",
    "    for i in range(0, len(task_list)):\n",
    "        print(task_list[i],'\\n')\n",
    "#파일 저장 후 종료\n",
    "def save_tasks_to_file(task_list, filename):\n",
    "    fp_save = open(filename, 'w', encoding = 'utf8')\n",
    "    fp_save.writelines('\\n'.join(task_list))\n",
    "    fp_save.close()\n",
    "#파일에서 리스트 다운로드\n",
    "def load_tasks_from_file(filename):\n",
    "    task_list = []\n",
    "    fp = open(filename, 'r', encoding = 'utf8')\n",
    "    task_list = fp.readlines()\n",
    "    fp.close()\n",
    "    return task_list\n",
    "\n",
    "\n",
    "task_list = load_tasks_from_file('task.txt')\n",
    "#메뉴 출력\n",
    "while True:\n",
    "    print(\"\\n할일 관리 프로그램\")\n",
    "    print('1. 할일 추가')\n",
    "    print('2. 할일 목록 표시')\n",
    "    print('3. 종료')\n",
    "    \n",
    "    choice = input('선택: ')\n",
    "    #메뉴1. 할일 추가\n",
    "    if choice == '1':\n",
    "        task = input('할일을 입력하세요: ')\n",
    "        add_task(task_list, task)\n",
    "        print('할일이 추가되었습니다.')\n",
    "    #메뉴2. 목록 표시\n",
    "    elif choice == '2':\n",
    "        display_tasks(task_list)\n",
    "    #메뉴3. 종료\n",
    "    elif choice == '3':\n",
    "        save_tasks_to_file(task_list, 'task.txt')\n",
    "        print('프로그램을 종료합니다.')\n",
    "        break\n",
    "    #메뉴 외 입력 시 에러 출력\n",
    "    else:\n",
    "        print('잘못된 선택입니다. 다시 시도하세요.')"
   ]
  },
  {
   "cell_type": "code",
   "execution_count": null,
   "id": "df2356d8",
   "metadata": {},
   "outputs": [],
   "source": []
  }
 ],
 "metadata": {
  "kernelspec": {
   "display_name": "Python 3 (ipykernel)",
   "language": "python",
   "name": "python3"
  },
  "language_info": {
   "codemirror_mode": {
    "name": "ipython",
    "version": 3
   },
   "file_extension": ".py",
   "mimetype": "text/x-python",
   "name": "python",
   "nbconvert_exporter": "python",
   "pygments_lexer": "ipython3",
   "version": "3.11.4"
  }
 },
 "nbformat": 4,
 "nbformat_minor": 5
}
