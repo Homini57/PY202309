{
 "cells": [
  {
   "cell_type": "code",
   "execution_count": null,
   "id": "aa38a504",
   "metadata": {},
   "outputs": [
    {
     "name": "stdout",
     "output_type": "stream",
     "text": [
      "파일을 입력하세요: task.txt\n",
      "\n",
      "할일 관리 프로그램\n",
      "1. 할일 추가\n",
      "2. 할일 목록 표시\n",
      "3. 종료\n"
     ]
    }
   ],
   "source": [
    "#파일에 할일 추가\n",
    "def add_task(task_list, task): \n",
    "    task_list.append(task)\n",
    "#파일 내 할일 목록 표시\n",
    "def display_tasks(task_list):\n",
    "    if not task_list:\n",
    "        print(\"할일 목록이 비어 있습니다.\") \n",
    "    else:\n",
    "        print(\"할일 목록:\")\n",
    "    for I in range(len(task_list)):\n",
    "        task = task_list[i]\n",
    "        print(f'{i+1}. {task}')\n",
    "#파일 저장 후 종료\n",
    "def save_tasks_to_file(task_list, filename):\n",
    "    write_fp = open(filename,'w', encoding='utf8') \n",
    "    for task in task_list:\n",
    "        write_fp.write(task+'\\n')\n",
    "    write_fp.close()\n",
    "#파일에서 리스트 다운로드\n",
    "def load_tasks_from_file(filename):\n",
    "    task_list = []\n",
    "    read_fp = open(filename, 'r', encoding='utf8') \n",
    "    lines = read_fp.readlines()\n",
    "    for line in lines:\n",
    "        task_list.append(line.strip())\n",
    "    read_fp.close()\n",
    "    return task_list\n",
    "#파일명 입력받기\n",
    "file_name = input(\"파일을 입력하세요: \")\n",
    "try:\n",
    "    #파일 존재 여부 체크\n",
    "    fp = open(file_name,'r',encoding='utf8')\n",
    "    fp.close()\n",
    "    #리스트 다운로드\n",
    "    task_list = load_tasks_from_file(file_name)\n",
    "    #메뉴 출력\n",
    "    while True:\n",
    "        print(\"\\n할일 관리 프로그램\")\n",
    "        print(\"1. 할일 추가\")\n",
    "        print(\"2. 할일 목록 표시\")\n",
    "        print(\"3. 종료\")\n",
    "\n",
    "        choice = input(\"선택: \")\n",
    "        #메뉴1. 할일 추가\n",
    "        if choice == '1':\n",
    "            task = input(\"할일을 입력하세요: \")\n",
    "            add_task(task_list, task)\n",
    "            print(\"할일이 추가되었습니다.\")\n",
    "        #메뉴2. 목록 표시\n",
    "        elif choice == '2':\n",
    "            display_tasks(task_list)\n",
    "        #메뉴3. 종료\n",
    "        elif choice == '3':\n",
    "            save_tasks_to_file(task_list, file_name)\n",
    "            print(\"프로그램을 종료합니다.\")\n",
    "            break\n",
    "        #메뉴 외 입력 시 에러 출력\n",
    "        else:\n",
    "            print(\"잘못된 선택입니다. 다시 시도하세요.\")\n",
    "#파일 없으면 에러 출력\n",
    "except FileNotFoundError:\n",
    "    print('파일이 존재하지 않습니다.\\n프로그램을 종료합니다.')"
   ]
  },
  {
   "cell_type": "code",
   "execution_count": null,
   "id": "bf667428",
   "metadata": {},
   "outputs": [],
   "source": []
  }
 ],
 "metadata": {
  "kernelspec": {
   "display_name": "Python 3 (ipykernel)",
   "language": "python",
   "name": "python3"
  },
  "language_info": {
   "codemirror_mode": {
    "name": "ipython",
    "version": 3
   },
   "file_extension": ".py",
   "mimetype": "text/x-python",
   "name": "python",
   "nbconvert_exporter": "python",
   "pygments_lexer": "ipython3",
   "version": "3.11.4"
  }
 },
 "nbformat": 4,
 "nbformat_minor": 5
}
