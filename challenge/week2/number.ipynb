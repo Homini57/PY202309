{
 "cells": [
  {
   "cell_type": "code",
   "execution_count": null,
   "id": "a776effb",
   "metadata": {},
   "outputs": [],
   "source": [
    "# \\n을 사용하여 줄을 나눈다.\n",
    "print(\"What do you call a bear with no teeth?\\nA gummy bear!\")"
   ]
  },
  {
   "cell_type": "code",
   "execution_count": null,
   "id": "8aed9502",
   "metadata": {},
   "outputs": [],
   "source": [
    "# input()을 사용하여 입력창을 만든다.\n",
    "name = input(\"Enter your name: \")\n",
    "print(\"Hello\", name)"
   ]
  },
  {
   "cell_type": "code",
   "execution_count": null,
   "id": "445fcde0",
   "metadata": {},
   "outputs": [],
   "source": [
    "# print(a,b,c)와 같이 여러 글자를 한번에 출력할 수 있다.\n",
    "name = input(\"Enter your name: \")\n",
    "last_name = input(\"Enter your last name: \")\n",
    "print(\"Hello\", name, last_name)"
   ]
  },
  {
   "cell_type": "code",
   "execution_count": null,
   "id": "46ec5c5e",
   "metadata": {},
   "outputs": [],
   "source": [
    "# int(input())의 형시근 정수를 입력받을 수 있다.\n",
    "f_num = int(input(\"Enter the first number : \"))\n",
    "s_num = int(input(\"Enter the second number : \"))\n",
    "print(f_num, \"+\", s_num, \"=\", f_num + s_num)"
   ]
  },
  {
   "cell_type": "code",
   "execution_count": null,
   "id": "d6b2938e",
   "metadata": {},
   "outputs": [],
   "source": [
    "# 다중 연산시 괄호를 사용하여 연산 순서를 제어할 수 있다.\n",
    "f_num = int(input(\"Enter the first number : \"))\n",
    "s_num = int(input(\"Enter the second number : \"))\n",
    "th_num = int(input(\"Enter the third number : \"))\n",
    "print(f_num, \"+\", s_num, \"*\", th_num, \"=\", f_num + s_num * th_num)\n",
    "print(\"(\",f_num, \"+\", s_num,\")\", \"*\", th_num, \"=\", (f_num + s_num) * th_num)"
   ]
  },
  {
   "cell_type": "code",
   "execution_count": 1,
   "id": "ff85bb08",
   "metadata": {},
   "outputs": [
    {
     "name": "stdout",
     "output_type": "stream",
     "text": [
      "Enter the numbeer of slices of pizza you started with: 10\n",
      "How many slices have you eaten: 5\n",
      "You have  5 slicing remaining.\n"
     ]
    }
   ],
   "source": [
    "pizza = int(input(\"Enter the numbeer of slices of pizza you started with: \"))\n",
    "eat = int(input(\"How many slices have you eaten: \"))\n",
    "print(\"You have \", pizza - eat, \"slicing remaining.\" )"
   ]
  },
  {
   "cell_type": "code",
   "execution_count": 4,
   "id": "4bfbfbdb",
   "metadata": {},
   "outputs": [
    {
     "name": "stdout",
     "output_type": "stream",
     "text": [
      "What is your name? Minho\n",
      "How old are you? 23\n",
      "Minho . next birthday you will be 24\n"
     ]
    }
   ],
   "source": [
    "name = input(\"What is your name? \")\n",
    "old = int(input(\"How old are you? \"))\n",
    "print(name, \". next birthday you will be\", old + 1)"
   ]
  },
  {
   "cell_type": "code",
   "execution_count": null,
   "id": "84177cfc",
   "metadata": {},
   "outputs": [],
   "source": []
  }
 ],
 "metadata": {
  "kernelspec": {
   "display_name": "Python 3 (ipykernel)",
   "language": "python",
   "name": "python3"
  },
  "language_info": {
   "codemirror_mode": {
    "name": "ipython",
    "version": 3
   },
   "file_extension": ".py",
   "mimetype": "text/x-python",
   "name": "python",
   "nbconvert_exporter": "python",
   "pygments_lexer": "ipython3",
   "version": "3.11.4"
  }
 },
 "nbformat": 4,
 "nbformat_minor": 5
}
