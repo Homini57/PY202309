{
 "cells": [
  {
   "cell_type": "code",
   "execution_count": 1,
   "id": "a776effb",
   "metadata": {},
   "outputs": [
    {
     "name": "stdout",
     "output_type": "stream",
     "text": [
      "What do you call a bear with no teeth?\n",
      "A gummy bear!\n"
     ]
    }
   ],
   "source": [
    "print(\"What do you call a bear with no teeth?\\nA gummy bear!\")"
   ]
  },
  {
   "cell_type": "code",
   "execution_count": null,
   "id": "8aed9502",
   "metadata": {},
   "outputs": [],
   "source": [
    "name = input(\"Enter your name: \")\n",
    "print(\"Enter your name: )\n",
    "print(name)\n",
    "print(\"Hello\")\n",
    "print(name)"
   ]
  },
  {
   "cell_type": "code",
   "execution_count": null,
   "id": "445fcde0",
   "metadata": {},
   "outputs": [],
   "source": [
    "name = input(\"Input your name: \")\n",
    "last_name = input(\"Input your last name: \")\n",
    "formatted_string = f\"Enter your name: {name}\"\n",
    "print(formatted_string)\n",
    "formatted_string = f\"Enter your last name: {last_name}\"\n",
    "print(formatted_string)\n",
    "formatted_string = f\"Hello {name} {last_name}\"\n",
    "print(formatted_string)"
   ]
  },
  {
   "cell_type": "code",
   "execution_count": null,
   "id": "46ec5c5e",
   "metadata": {},
   "outputs": [],
   "source": [
    "f_num = 10\n",
    "s_num = 30\n",
    "formatted_string = f\"Enter your name: {f_num}\"\n",
    "print(formatted_string)\n",
    "formatted_string = f\"Enter your last name: {s_num}\"\n",
    "print(formatted_string)\n",
    "formatted_string = f\"Hello {name} {last_name}\"\n",
    "print(formatted_string)"
   ]
  }
 ],
 "metadata": {
  "kernelspec": {
   "display_name": "Python 3 (ipykernel)",
   "language": "python",
   "name": "python3"
  },
  "language_info": {
   "codemirror_mode": {
    "name": "ipython",
    "version": 3
   },
   "file_extension": ".py",
   "mimetype": "text/x-python",
   "name": "python",
   "nbconvert_exporter": "python",
   "pygments_lexer": "ipython3",
   "version": "3.11.4"
  }
 },
 "nbformat": 4,
 "nbformat_minor": 5
}
