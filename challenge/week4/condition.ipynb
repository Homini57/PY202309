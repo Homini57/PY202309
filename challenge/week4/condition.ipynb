{
 "cells": [
  {
   "cell_type": "code",
   "execution_count": 4,
   "id": "a476c2f5",
   "metadata": {},
   "outputs": [
    {
     "name": "stdout",
     "output_type": "stream",
     "text": [
      "Is it raining (Y / N)y\n",
      "Is it windy? (Y / N)n\n",
      "Take an umbrella.\n"
     ]
    }
   ],
   "source": [
    "rain = input(\"Is it raining (Y / N)\")\n",
    "windy = input(\"Is it windy? (Y / N)\")\n",
    "\n",
    "# 가장 먼저 올바른 값 ('y', 'n')을 입력하였는지 if 문을 통해 선별한다.\n",
    "if rain =='y'or rain == 'n' and windy == 'y' or winidy == 'n':\n",
    "    #올바른 값을 입력하였다면 if-elif문으로 각 상태에 맞는 문장을 출력한다.\n",
    "    if rain == 'y' and windy == 'y':\n",
    "        print(\"It is too windy for an umbrella.\")\n",
    "    elif rain == 'y' and windy == 'n':\n",
    "        print(\"Take an umbrella.\")\n",
    "    elif rain == 'n' and windy == 'y':\n",
    "        print(\"Pleae take a coat.\")\n",
    "    elif rain == 'n' and windy == 'n':\n",
    "        print(\"Have a nice day.\")\n",
    "    #올바른 값을 입력하지 않았다면 \"Incorrect input\"을 출력한다.    \n",
    "    else:\n",
    "        print(\"Incorrect Input\")"
   ]
  },
  {
   "cell_type": "code",
   "execution_count": null,
   "id": "870badfe",
   "metadata": {},
   "outputs": [],
   "source": []
  }
 ],
 "metadata": {
  "kernelspec": {
   "display_name": "Python 3 (ipykernel)",
   "language": "python",
   "name": "python3"
  },
  "language_info": {
   "codemirror_mode": {
    "name": "ipython",
    "version": 3
   },
   "file_extension": ".py",
   "mimetype": "text/x-python",
   "name": "python",
   "nbconvert_exporter": "python",
   "pygments_lexer": "ipython3",
   "version": "3.11.4"
  }
 },
 "nbformat": 4,
 "nbformat_minor": 5
}
