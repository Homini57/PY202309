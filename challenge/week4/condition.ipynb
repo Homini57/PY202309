{
 "cells": [
  {
   "cell_type": "code",
   "execution_count": 11,
   "id": "870badfe",
   "metadata": {},
   "outputs": [
    {
     "name": "stdout",
     "output_type": "stream",
     "text": [
      "Is it raining (Y / N)d\n",
      "Is it windy? (Y / N)d\n",
      "Incorrect Input\n"
     ]
    }
   ],
   "source": [
    "# 수업에서는 생각이 안 났는데 이 방법이 더 효율적인 거 같아 집에서 다시 작성해보았습니다.\n",
    "\n",
    "rain = input(\"Is it raining (Y / N)\")\n",
    "windy = input(\"Is it windy? (Y / N)\")\n",
    "\n",
    "# 가장 먼저 올바른 값 ('y', 'n')을 입력하였는지 if 문을 통해 선별한다.\n",
    "if rain =='y'or rain == 'n' and windy == 'y' or windy == 'n':\n",
    "    #올바른 값을 입력하였다면 각 조건에 가중치를 부여한다. (rain에는 2, windy에는 1)\n",
    "    # rain, windy에 대하여 값이 4이면 둘다 y, 3이면 rain만 y, 2이면 windy만 y, 1이면 둘다 n이다.\n",
    "    value = 2 * (rain == 'y') + (windy == 'y')\n",
    "    #if-elif문으로 각 상태에 맞는 문장을 출력한다.\n",
    "    if value == 3:\n",
    "        print(\"It is too windy for an umbrella.\")\n",
    "    elif value == 2:\n",
    "        print(\"Take an umbrella.\")\n",
    "    elif value == 1:\n",
    "        print(\"Pleae take a coat.\")\n",
    "    elif value == 0:\n",
    "        print(\"Have a nice day.\")\n",
    "    #올바른 값을 입력하지 않았다면 \"Incorrect input\"을 출력한다.    \n",
    "else:\n",
    "        print(\"Incorrect Input\")"
   ]
  }
 ],
 "metadata": {
  "kernelspec": {
   "display_name": "Python 3 (ipykernel)",
   "language": "python",
   "name": "python3"
  },
  "language_info": {
   "codemirror_mode": {
    "name": "ipython",
    "version": 3
   },
   "file_extension": ".py",
   "mimetype": "text/x-python",
   "name": "python",
   "nbconvert_exporter": "python",
   "pygments_lexer": "ipython3",
   "version": "3.11.4"
  }
 },
 "nbformat": 4,
 "nbformat_minor": 5
}
