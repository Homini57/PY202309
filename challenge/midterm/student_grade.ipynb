{
 "cells": [
  {
   "cell_type": "code",
   "execution_count": 1,
   "id": "5b1e9749",
   "metadata": {},
   "outputs": [
    {
     "name": "stdout",
     "output_type": "stream",
     "text": [
      "{'실바': {'국어': 88.8, '수학': 98.5, '영어': 70.5}, '산토스': {'국어': 88.8, '수학': 98.5, '영어': 70.5}, '맥그리거': {'국어': 88.8, '수학': 98.5, '영어': 70.5}, '알도': {'국어': 88.8, '수학': 98.5, '영어': 70.5}, '로우지': {'국어': 88.8, '수학': 98.5, '영어': 70.5}, '누네스': {'국어': 88.8, '수학': 98.5, '영어': 70.5}}\n",
      "------학생들의 평균 점수------\n",
      "실바의 평균 점수는85.93333333333334입니다.\n",
      "산토스의 평균 점수는85.93333333333334입니다.\n",
      "맥그리거의 평균 점수는85.93333333333334입니다.\n",
      "알도의 평균 점수는85.93333333333334입니다.\n",
      "로우지의 평균 점수는85.93333333333334입니다.\n",
      "누네스의 평균 점수는85.93333333333334입니다.\n"
     ]
    }
   ],
   "source": [
    "# 학생 별 성적들을 딕셔너리에 저장\n",
    "def loadData (lines):\n",
    "    preprocessed_lines = []\n",
    "    students_dict = {}\n",
    "    grades_dict = {}\n",
    "    for line in lines:\n",
    "        line = line.strip().split(',')\n",
    "        preprocessed_lines.append(line)\n",
    "\n",
    "    subject_list = preprocessed_lines.pop(0)\n",
    "    for grades in preprocessed_lines:\n",
    "        for i in range(1,4):\n",
    "            grades_dict[subject_list[i]] = float(grades[i])\n",
    "        students_dict[grades[0]] = grades_dict\n",
    "        \n",
    "    return students_dict\n",
    "# 학생 별 성적의 평균 점수를 출력\n",
    "def getAverage(num_list):\n",
    "    sum_num = 0\n",
    "    for num in num_list:\n",
    "        sum_num = sum_num + num\n",
    "        avr = sum_num / len(num_list)\n",
    "    return avr\n",
    "\n",
    "lines = open(\"students.csv\",\"r\", encoding=\"utf8\").readlines()\n",
    "\n",
    "# TODO 1: 학생 정보를 딕셔너리에 저장\n",
    "students_dict = loadData(lines)\n",
    "print(students_dict)\n",
    "\n",
    "# TODO 2: 학생 별 평균 점수를 계산\n",
    "print(\"------학생들의 평균 점수------\")\n",
    "\n",
    "for name in list(students_dict.keys()):\n",
    "    avr = getAverage(list(students_dict[name].values()))\n",
    "    print(f\"{name}의 평균 점수는{avr}입니다.\")\n",
    "\n",
    "file_name = \"average.txt\"\n",
    "write_fp = open(file_name,'w',encoding = 'utf8')\n",
    "\n",
    "# 학생 별 평균 점수를 파일에 저장\n",
    "for name in list(students_dict.keys()):\n",
    "    avr = getAverage(list(students_dict[name].values()))\n",
    "    str_avr = str(name) + \"의 평균 점수는\" + str(avr) + \"입니다.\\n\"\n",
    "    write_fp.write(str_avr)\n",
    "write_fp.close()"
   ]
  },
  {
   "cell_type": "code",
   "execution_count": null,
   "id": "73e686ed",
   "metadata": {},
   "outputs": [],
   "source": []
  }
 ],
 "metadata": {
  "kernelspec": {
   "display_name": "Python 3 (ipykernel)",
   "language": "python",
   "name": "python3"
  },
  "language_info": {
   "codemirror_mode": {
    "name": "ipython",
    "version": 3
   },
   "file_extension": ".py",
   "mimetype": "text/x-python",
   "name": "python",
   "nbconvert_exporter": "python",
   "pygments_lexer": "ipython3",
   "version": "3.11.4"
  }
 },
 "nbformat": 4,
 "nbformat_minor": 5
}
