{
 "cells": [
  {
   "cell_type": "code",
   "execution_count": 2,
   "id": "b98f357a",
   "metadata": {
    "scrolled": true
   },
   "outputs": [
    {
     "name": "stdout",
     "output_type": "stream",
     "text": [
      "Enter 1st number: 1\n",
      "Enter 2nd number: 2\n",
      "Enter 3rd number: 3\n",
      "Enter 4th number: 4\n",
      "Enter 5th number: 5\n",
      "max:  5\n",
      "min:  1\n",
      "average:  3.0\n"
     ]
    }
   ],
   "source": [
    "num_list=[\"\",\"\",\"\",\"\",\"\"] # 크기가 5인 list를 생성한다.\n",
    "#list에 숫자를 순서대로 입력한다.\n",
    "num_list[0] = int(input(\"Enter 1st number: \"))\n",
    "num_list[1] = int(input(\"Enter 2nd number: \"))\n",
    "num_list[2] = int(input(\"Enter 3rd number: \"))\n",
    "num_list[3] = int(input(\"Enter 4th number: \"))\n",
    "num_list[4] = int(input(\"Enter 5th number: \"))\n",
    "\n",
    "#list내의 최대 item, 최소 item을 반환 후 출력한다.\n",
    "print(\"max: \", max(num_list))\n",
    "print(\"min: \", min(num_list))\n",
    "# list 내의 모든 item의 값을 더한 후, list의 크기로 나누면 list의 평균이 구해진다.\n",
    "print(\"average: \", sum(num_list) / len(num_list))"
   ]
  },
  {
   "cell_type": "code",
   "execution_count": 18,
   "id": "d9117d68",
   "metadata": {},
   "outputs": [
    {
     "name": "stdout",
     "output_type": "stream",
     "text": [
      "Whata is your favorite singer? AKMU\n",
      "['AKMU', 'BTS', 'Black Pink']\n"
     ]
    }
   ],
   "source": [
    "singer_list = [\"BTS\", \"Black Pink\"]      #singer에 관한 list를 생성\n",
    "singer_list.append(input(\"Whata is your favorite singer? \"))  #append를 이용하여 입력값을 list에 추가\n",
    "singer_list.sort()   #sort를 이용하여 가수 이름을 오름차순으로 정렬\n",
    "print(singer_list)   #list를 출력"
   ]
  },
  {
   "cell_type": "code",
   "execution_count": 9,
   "id": "cef2e5c1",
   "metadata": {},
   "outputs": [
    {
     "name": "stdout",
     "output_type": "stream",
     "text": [
      "('tennis', 'football', 'baseball', 'bastetball', 'golf') \n",
      "\n",
      "Please enter one of the sport name from above: baseball\n",
      "baseball has index number: 2 \n",
      "\n",
      "Enter a number between 0 and 4: 4\n",
      "golf\n"
     ]
    }
   ],
   "source": [
    "sports = (\"tennis\", \"football\", \"baseball\", \"bastetball\", \"golf\") #sports에 관한 tuple을 생성 후 출력\n",
    "print(sports,\"\\n\")\n",
    "\n",
    "\n",
    "sports_index = input(\"Please enter one of the sport name from above: \")  #item을 입력\n",
    "print(sports_index,\"has index number:\",sports.index(sports_index),\"\\n\")  #.index를 이용하여 item의 index를 반환 후 출력\n",
    "select = int(input(\"Enter a number between 0 and 4: \"))  #index를 입력\n",
    "print(sports[select]) #indexing"
   ]
  },
  {
   "cell_type": "code",
   "execution_count": null,
   "id": "c512c702",
   "metadata": {},
   "outputs": [
    {
     "name": "stdout",
     "output_type": "stream",
     "text": [
      "Menu: Americano , Caffe Latte , Caffe Mocha , Iced Tea\n"
     ]
    }
   ],
   "source": [
    "menu = (\"Americano\", \"Caffe Latte\", \"Caffe Mocha\", \"Iced Tea\")    # cafe menu에 관한 tuple을 생성 후 출력\n",
    "print(\"Menu:\",menu[0],\",\",menu[1],\",\",menu[2],\",\",menu[3] )\n",
    "yesterday_menu=[\"\",\"\",\"\",\"\",\"\"] # yesterday menu에 관한 list를 생성\n",
    "today_menu=[\"\",\"\",\"\",\"\",\"\"]     # today menu에 관한 list를 생성\n",
    "yesterday_menu[0] = input(\"Enter the 1st item sold yesterday:\")    # yesterday menu를 list에 입력\n",
    "yesterday_menu[1] = input(\"Enter the 2nd item sold yesterday:\")\n",
    "yesterday_menu[2]= input(\"Enter the 3rd item sold yesterday:\")\n",
    "yesterday_menu[3] = input(\"Enter the 4th item sold yesterday:\")\n",
    "yesterday_menu[4] = input(\"Enter the 5th item sold today:\")\n",
    "today_menu[0] = input(\"Enter the 1st item sold today:\")            # today menu를 list에 입력\n",
    "today_menu[1] = input(\"Enter the 2nd item sold today:\")\n",
    "today_menu[2] = input(\"Enter the 3rd item sold today:\")\n",
    "today_menu[3] = input(\"Enter the 4th item sold today:\")\n",
    "today_menu[4] = input(\"Enter the 5th item sold today:\")\n",
    "print(\"Yesterday sales: \",yesterday_menu[0],yesterday_menu[1],yesterday_menu[2]     # 입력받은 menu를 각각 indexing하여 출력\n",
    "     ,yesterday_menu[3],yesterday_menu[4])\n",
    "print(\"Today sales: \",today_menu[0], today_menu[1], today_menu[2]\n",
    "      ,today_menu[3], today_menu[4])\n",
    "yesterday_menu.extend(today_menu)                                  # .extend를 이용하여 두 menu를 통합 후 10개의 menu를 출력\n",
    "                                                                   # 통합된 menu 이름이 yesterday_menu임을 주의\n",
    "print(\"Total sales: \",yesterday_menu[0],yesterday_menu[1],yesterday_menu[2]\n",
    "     ,yesterday_menu[3],yesterday_menu[4],yesterday_menu[5],yesterday_menu[6],yesterday_menu[7]\n",
    "     ,yesterday_menu[8],yesterday_menu[9])\n",
    "print(\"Americano sales: \", yesterday_menu.count(\"Americano\"))      # .count를 이용하여 Americano의 개수를 출력"
   ]
  },
  {
   "cell_type": "code",
   "execution_count": null,
   "id": "505d355a",
   "metadata": {},
   "outputs": [],
   "source": []
  }
 ],
 "metadata": {
  "kernelspec": {
   "display_name": "Python 3 (ipykernel)",
   "language": "python",
   "name": "python3"
  },
  "language_info": {
   "codemirror_mode": {
    "name": "ipython",
    "version": 3
   },
   "file_extension": ".py",
   "mimetype": "text/x-python",
   "name": "python",
   "nbconvert_exporter": "python",
   "pygments_lexer": "ipython3",
   "version": "3.11.4"
  }
 },
 "nbformat": 4,
 "nbformat_minor": 5
}
