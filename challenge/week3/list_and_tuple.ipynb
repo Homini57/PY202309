{
 "cells": [
  {
   "cell_type": "code",
   "execution_count": 16,
   "id": "b98f357a",
   "metadata": {
    "scrolled": true
   },
   "outputs": [
    {
     "name": "stdout",
     "output_type": "stream",
     "text": [
      "Enter 1st number: 1\n",
      "Enter 2nd number: 2\n",
      "Enter 3rd number: 3\n",
      "Enter 4th number: 4\n",
      "Enter 5th number: 5\n",
      "<class 'list'>\n",
      "max:  5\n",
      "min:  1\n",
      "average:  3.0\n"
     ]
    }
   ],
   "source": [
    "num_list=list()\n",
    "num1 = int(input(\"Enter 1st number: \"))\n",
    "num2 = int(input(\"Enter 2nd number: \"))\n",
    "num3 = int(input(\"Enter 3rd number: \"))\n",
    "num4 = int(input(\"Enter 4th number: \"))\n",
    "num5 = int(input(\"Enter 5th number: \"))\n",
    "num_list.append(num1)\n",
    "num_list.append(num2)\n",
    "num_list.append(num3)\n",
    "num_list.append(num4)\n",
    "num_list.append(num5)\n",
    "\n",
    "print(type(num_list))\n",
    "print(\"max: \", max(num_list))\n",
    "print(\"min: \", min(num_list))\n",
    "print(\"average: \", sum(num_list) / len(num_list))"
   ]
  },
  {
   "cell_type": "code",
   "execution_count": 18,
   "id": "d9117d68",
   "metadata": {},
   "outputs": [
    {
     "name": "stdout",
     "output_type": "stream",
     "text": [
      "Whata is your favorite singer? AKMU\n",
      "['AKMU', 'BTS', 'Black Pink']\n"
     ]
    }
   ],
   "source": [
    "singer_list = [\"BTS\", \"Black Pink\"]\n",
    "singer_list.append(input(\"Whata is your favorite singer? \"))\n",
    "singer_list.sort()\n",
    "print(singer_list)"
   ]
  },
  {
   "cell_type": "code",
   "execution_count": null,
   "id": "cef2e5c1",
   "metadata": {},
   "outputs": [],
   "source": [
    "sports = (\"tennis\", \"football\", \"baseball\", \"bastetball\", \"golf\")\n",
    "print(sports)\n"
   ]
  }
 ],
 "metadata": {
  "kernelspec": {
   "display_name": "Python 3 (ipykernel)",
   "language": "python",
   "name": "python3"
  },
  "language_info": {
   "codemirror_mode": {
    "name": "ipython",
    "version": 3
   },
   "file_extension": ".py",
   "mimetype": "text/x-python",
   "name": "python",
   "nbconvert_exporter": "python",
   "pygments_lexer": "ipython3",
   "version": "3.11.4"
  }
 },
 "nbformat": 4,
 "nbformat_minor": 5
}
