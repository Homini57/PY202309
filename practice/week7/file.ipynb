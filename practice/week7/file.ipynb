{
 "cells": [
  {
   "cell_type": "code",
   "execution_count": null,
   "id": "71262e64",
   "metadata": {
    "scrolled": false
   },
   "outputs": [
    {
     "name": "stdout",
     "output_type": "stream",
     "text": [
      "1.  암호화, 2. 복호화 중 선택하세요: 2\n",
      "입력 파일 이름을 입력하세요: data_enc.txt\n",
      "출력 파일 이름을 입력하세요: data_dec.txt\n",
      "['퍰쟘쏐잨\\x84굙뷤헍댬덈\\x92n점뱜닸\\x84옪잨\\x84쉼됨\\x84쟬옘웸\\x92n깜캼먰\\x84범윔뫘\\x84앜\\x84굗잤\\x84먲얨웸\\x92']\n",
      "퍰 54028 파\n",
      "쟘 51060 이\n",
      "쏐 50028 썬\n",
      "잨 51012 을\n",
      " 32  \n",
      "굙 44277 공\n",
      "뷤 48512 부\n",
      "헍 54633 합\n",
      "댬 45768 니\n",
      "덈 45796 다\n",
      " 46 .\n",
      "n 10 \n",
      "\n",
      "점 51116 재\n",
      "뱜 48120 미\n",
      "닸 45716 는\n",
      " 32  \n",
      "옪 50630 없\n",
      "잨 51012 을\n",
      " 32  \n",
      "쉼 49688 수\n",
      "됨 46020 도\n",
      " 32  \n",
      "쟬 51080 있\n",
      "옘 50612 어\n",
      "웸 50836 요\n",
      " 46 .\n",
      "n 10 \n",
      "\n",
      "깜 44536 그\n",
      "캼 52824 치\n",
      "먰 47564 만\n",
      " 32  \n",
      "범 48176 배\n",
      "윔 50864 우\n",
      "뫘 47732 면\n",
      " 32  \n",
      "앜 50424 쓸\n",
      " 32  \n",
      "굗 44275 곳\n",
      "잤 51008 은\n",
      " 32  \n",
      "먲 47566 많\n",
      "얨 50500 아\n",
      "웸 50836 요\n",
      " 46 .\n",
      "data_enc.txt --> data_dec.txt Finish to transfor\n"
     ]
    }
   ],
   "source": [
    "while True:\n",
    "    choice = int(input(\"1.  암호화, 2. 복호화 중 선택하세요: \"))\n",
    "    in_filename = input(\"입력 파일 이름을 입력하세요: \")\n",
    "    out_filename = input(\"출력 파일 이름을 입력하세요: \")\n",
    "\n",
    "    token_jump = 0\n",
    "\n",
    "    if choice == 1:\n",
    "        token_jump = 100\n",
    "    elif choice == 2:\n",
    "        token_jump = -100\n",
    "\n",
    "    in_fp = open(in_filename, 'r', encoding='utf8')\n",
    "    out_fp = open(out_filename, 'w', encoding='utf8')\n",
    "\n",
    "    in_lines = in_fp.readlines()\n",
    "    print(in_lines)\n",
    "    # print(in_lines)\n",
    "    # ['파이썬을 공부합니다.\\n', '재미는 없을 수도 있어요.\\n', '그치만 배우면 쓸 곳은 많아요.']\n",
    "    for in_line in in_lines:\n",
    "        out_str = \"\"\n",
    "        for i in range(0, len(in_line)):\n",
    "            ch = in_line[i]\n",
    "            ch_num = ord(ch)\n",
    "            ch_num = ch_num + token_jump\n",
    "            ch2 = chr(ch_num)\n",
    "            out_str = out_str + ch2\n",
    "            print(ch, ch_num, ch2)\n",
    "        out_fp.write(out_str)\n",
    "\n",
    "    out_fp.close()\n",
    "    in_fp.close()\n",
    "    print(\"%s --> %s Finish to transfor\"%(in_filename, out_filename))"
   ]
  },
  {
   "cell_type": "code",
   "execution_count": null,
   "id": "325eb441",
   "metadata": {},
   "outputs": [],
   "source": []
  }
 ],
 "metadata": {
  "kernelspec": {
   "display_name": "Python 3 (ipykernel)",
   "language": "python",
   "name": "python3"
  },
  "language_info": {
   "codemirror_mode": {
    "name": "ipython",
    "version": 3
   },
   "file_extension": ".py",
   "mimetype": "text/x-python",
   "name": "python",
   "nbconvert_exporter": "python",
   "pygments_lexer": "ipython3",
   "version": "3.11.4"
  }
 },
 "nbformat": 4,
 "nbformat_minor": 5
}
