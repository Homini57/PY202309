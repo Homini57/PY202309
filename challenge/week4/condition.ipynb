{
 "cells": [
  {
   "cell_type": "code",
   "execution_count": 9,
   "id": "e249e8b9",
   "metadata": {},
   "outputs": [
    {
     "name": "stdout",
     "output_type": "stream",
     "text": [
      "Is it raining (Y / N)y\n",
      "Is it windy? (Y / N)n\n",
      "Take an umbrella.\n"
     ]
    }
   ],
   "source": [
    "# 수업에서는 생각이 안 났는데 이 방법이 더 효율적인 거 같아 집에서 다시 작성해보았습니다.\n",
    "\n",
    "rain = input(\"Is it raining (Y / N)\")\n",
    "windy = input(\"Is it windy? (Y / N)\")\n",
    "\n",
    "# 가장 먼저 올바른 값 ('y', 'n')을 입력하였는지 if 문을 통해 선별한다.\n",
    "if rain =='y'or rain == 'n' and windy == 'y' or windy == 'n':\n",
    "    #올바른 값을 입력하였다면 각 조건에 가중치를 부여한다. (rain에는 2, windy에는 1)\n",
    "    # rain, windy에 대하여 값이 4이면 둘다 y, 3이면 rain만 y, 2이면 windy만 y, 1이면 둘다 n이다.\n",
    "    value = 2 * (rain == 'y') + (windy == 'y')\n",
    "    #if-elif문으로 각 상태에 맞는 문장을 출력한다.\n",
    "    if value == 3:\n",
    "        print(\"It is too windy for an umbrella.\")\n",
    "    elif value == 2:\n",
    "        print(\"Take an umbrella.\")\n",
    "    elif value == 1:\n",
    "        print(\"Pleae take a coat.\")\n",
    "    elif value == 0:\n",
    "        print(\"Have a nice day.\")\n",
    "    #올바른 값을 입력하지 않았다면 \"Incorrect input\"을 출력한다.    \n",
    "else:\n",
    "        print(\"Incorrect Input\")"
   ]
  },
  {
   "cell_type": "code",
   "execution_count": 8,
   "id": "4fc8e059",
   "metadata": {},
   "outputs": [
    {
     "name": "stdout",
     "output_type": "stream",
     "text": [
      "Is it raining (Y / N)0\n",
      "Is it windy? (Y / N)0\n",
      "Incorrect Input\n"
     ]
    }
   ],
   "source": [
    "# 다른 코드\n",
    "\n",
    "rain = input(\"Is it raining (Y / N)\")\n",
    "windy = input(\"Is it windy? (Y / N)\")\n",
    "\n",
    "# 모든 논리값이 중복되지 않도록 가중치?를 곱한다. \n",
    "# 이때, 1과 0를 입력할 경우에 대해 헷갈릴 수 있는데 입력되는 1과 0은 input에 의해 string으로 저장되므로 정상적으로 작동한다.\n",
    "value = 3 * (2 * (rain =='y') + (rain == 'n')) + (2 * (windy == 'y') + (windy == 'n'))\n",
    "\n",
    "# 두 값중 하나라도'y'나 'n'가 아닌 경우는 0,1,2,3,6으로 6의 약수임을 알 수 있다.\n",
    "# 따라서 6 & value == 0라는 조건으로 잘못된 값이 입력된 경우를 선별할 수 있다.\n",
    "# 나머지 값에 대하여, 순서대로 rain이 'y'이면 +6, windy가 'y'이면 +2 = 8, 'n'이면 +1 = 7\n",
    "# rain이 'n'이면 +3, windy가 'y'이면 +2 = 5, 'n'이면 +1 = 4로 겹치지 않게  case를 분할할 수 있다.\n",
    "if 6 & value == 0:\n",
    "    print(\"Incorrect Input\")\n",
    "elif value == 8:\n",
    "    print(\"It is too windy for an umbrella.\")\n",
    "elif value == 7:\n",
    "    print(\"Take an umbrella.\")\n",
    "elif value == 5:\n",
    "    print(\"Pleae take a coat.\")\n",
    "elif value == 4:\n",
    "    print(\"Have a nice day.\") "
   ]
  },
  {
   "cell_type": "code",
   "execution_count": null,
   "id": "a120bfe8",
   "metadata": {},
   "outputs": [],
   "source": []
  }
 ],
 "metadata": {
  "kernelspec": {
   "display_name": "Python 3 (ipykernel)",
   "language": "python",
   "name": "python3"
  },
  "language_info": {
   "codemirror_mode": {
    "name": "ipython",
    "version": 3
   },
   "file_extension": ".py",
   "mimetype": "text/x-python",
   "name": "python",
   "nbconvert_exporter": "python",
   "pygments_lexer": "ipython3",
   "version": "3.11.4"
  }
 },
 "nbformat": 4,
 "nbformat_minor": 5
}
