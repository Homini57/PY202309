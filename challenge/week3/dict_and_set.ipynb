{
 "cells": [
  {
   "cell_type": "code",
   "execution_count": 3,
   "id": "3a64a8c3",
   "metadata": {},
   "outputs": [
    {
     "name": "stdout",
     "output_type": "stream",
     "text": [
      "Enter English number ranging from 1 to 5: three\n",
      "three is 삼\n"
     ]
    }
   ],
   "source": [
    "#영문 숫자(key)와 한글 숫자(value)의 dictionary 생성\n",
    "number_dict = {'one':'일', 'two':'이', 'three':'삼', 'four':'사','five':'오'}\n",
    "#key를 입력받는다.\n",
    "number = input(\"Enter English number ranging from 1 to 5: \")\n",
    "#dict_name[key]는 value를 반환한다.\n",
    "print(number, \"is\", number_dict[number])"
   ]
  },
  {
   "cell_type": "code",
   "execution_count": 15,
   "id": "59abbc71",
   "metadata": {},
   "outputs": [
    {
     "name": "stdout",
     "output_type": "stream",
     "text": [
      "Name:  Oppenheimer / average:  2.0\n",
      "Name:  Oppenheimer / average:  1.2222222222222223\n",
      "Name:  Oppenheimer / average:  0.9090909090909091\n"
     ]
    }
   ],
   "source": [
    "# 빈 공간의 dictionary 생성\n",
    "Movie_ratings = {}\n",
    "# 영화 이름(key)에 해당하는 dictionary 생성(key:평론가 이름, value:평점)\n",
    "Movie_ratings[\"Moving\"] = {\"Misoo\":4, \"Kwon\":3, \"Soo\":5}\n",
    "Movie_ratings[\"Mask Girl\"] = {\"Misoo\":3, \"David\":4, \"Soo\":4}\n",
    "Movie_ratings[\"Oppenheimer\"] = {\"Kwon\":3, \"Bob\":3, \"David\":4}\n",
    "\n",
    "#영화 이름(key)을 list로 생성\n",
    "movie_names = list(Movie_ratings.keys())\n",
    "#평균은 sum()과 len()을 나누어 구한다.\n",
    "#각 영화의 이름은 list의 index를 이용하여 표현할 수 있다.\n",
    "average = sum(Movie_ratings[movie_names[0]].values())/len(movie_names[0])\n",
    "print(\"Name: \", key, \"/\", \"average: \", average)\n",
    "average = sum(Movie_ratings[movie_names[1]].values())/len(movie_names[1])\n",
    "print(\"Name: \", key, \"/\", \"average: \", average)\n",
    "average = sum(Movie_ratings[movie_names[2]].values())/len(movie_names[2])\n",
    "print(\"Name: \", key, \"/\", \"average: \", average)\n"
   ]
  },
  {
   "cell_type": "code",
   "execution_count": 4,
   "id": "299b7474",
   "metadata": {},
   "outputs": [
    {
     "name": "stdout",
     "output_type": "stream",
     "text": [
      "Enter user1's 1st friend name: 철수\n",
      "Enter user1's 2nd friend name: 영수\n",
      "Enter user1's 3rd friend name: 영희\n",
      "Enter user2's 1st friend name: 철희\n",
      "Enter user2's 2nd friend name: 영수\n",
      "Enter user2's 3rd friend name: 동수\n",
      "All friends:  동수 철희 영희 철수 영수\n"
     ]
    }
   ],
   "source": [
    "#user1, 2에 대한 set를 생성\n",
    "user1 = set()\n",
    "user2 = set()\n",
    "#친구 이름 입력받기\n",
    "user1.add(input(\"Enter user1's 1st friend name: \"))\n",
    "user1.add(input(\"Enter user1's 2nd friend name: \"))\n",
    "user1.add(input(\"Enter user1's 3rd friend name: \"))\n",
    "user2.add(input(\"Enter user2's 1st friend name: \"))\n",
    "user2.add(input(\"Enter user2's 2nd friend name: \"))\n",
    "user2.add(input(\"Enter user2's 3rd friend name: \"))\n",
    "#*를 이용하여 불필요한 형식 제거, |를 이용하여 친구 이름들의 합집합을 구한다.\n",
    "print(\"All friends: \", *user1 | user2)\n"
   ]
  },
  {
   "cell_type": "code",
   "execution_count": null,
   "id": "878ca2e2",
   "metadata": {},
   "outputs": [],
   "source": []
  }
 ],
 "metadata": {
  "kernelspec": {
   "display_name": "Python 3 (ipykernel)",
   "language": "python",
   "name": "python3"
  },
  "language_info": {
   "codemirror_mode": {
    "name": "ipython",
    "version": 3
   },
   "file_extension": ".py",
   "mimetype": "text/x-python",
   "name": "python",
   "nbconvert_exporter": "python",
   "pygments_lexer": "ipython3",
   "version": "3.11.4"
  }
 },
 "nbformat": 4,
 "nbformat_minor": 5
}
