{
 "cells": [
  {
   "cell_type": "code",
   "execution_count": 1,
   "id": "f2757cb9",
   "metadata": {},
   "outputs": [
    {
     "name": "stdout",
     "output_type": "stream",
     "text": [
      "turtle bye!\n"
     ]
    }
   ],
   "source": [
    "import turtle\n",
    "screen_width, screen_height = 100, 100 # 드로잉 보드 크기\n",
    "\n",
    "turtle.title(\"Drawing rainbow circles\")\n",
    "turtle.shape(\"turtle\")\n",
    "turtle.setup(width = screen_width + 50, height = screen_height + 50)# 윈도우 크기 지정\n",
    "turtle.screensize(screen_width, screen_height)#드로잉 보드 크기 지정\n",
    "turtle.penup()\n",
    "turtle.goto(0, -screen_height / 2) # 시작 지점 지정\n",
    "turtle.pendown()\n",
    "turtle.speed(5)                      #속도 : 5\n",
    "\n",
    "for radius in range(1,50):     # 원의 색을 반지름 1씩 증가할때마다 무지개색 순서대로 바뀌도록 지정\n",
    "    if radius % 7 == 0:\n",
    "        turtle.pencolor('red')\n",
    "    elif radius % 7 == 1:\n",
    "        turtle.pencolor('orange')\n",
    "    elif radius % 7 == 2:\n",
    "        turtle.pencolor('yellow')\n",
    "    elif radius % 7 == 3:\n",
    "        turtle.pencolor('green')\n",
    "    elif radius % 7 == 4:\n",
    "        turtle.pencolor('blue')\n",
    "    elif radius % 7 == 5:\n",
    "        turtle.pencolor('navyblue')\n",
    "    elif radius % 7 == 6:\n",
    "        turtle.pencolor('purple')\n",
    "        \n",
    "    turtle.circle(radius)            #반지름을 1씩 늘려가며 50까지 원 그리기\n",
    "turtle.done()\n",
    "\n",
    "try:\n",
    "    turtle.bye()\n",
    "except:\n",
    "    print(\"turtle bye!\")"
   ]
  },
  {
   "cell_type": "code",
   "execution_count": null,
   "id": "b8c4f4a6",
   "metadata": {},
   "outputs": [],
   "source": []
  }
 ],
 "metadata": {
  "kernelspec": {
   "display_name": "Python 3 (ipykernel)",
   "language": "python",
   "name": "python3"
  },
  "language_info": {
   "codemirror_mode": {
    "name": "ipython",
    "version": 3
   },
   "file_extension": ".py",
   "mimetype": "text/x-python",
   "name": "python",
   "nbconvert_exporter": "python",
   "pygments_lexer": "ipython3",
   "version": "3.11.4"
  }
 },
 "nbformat": 4,
 "nbformat_minor": 5
}
