{
 "cells": [
  {
   "cell_type": "code",
   "execution_count": 4,
   "id": "292df242",
   "metadata": {},
   "outputs": [
    {
     "name": "stdout",
     "output_type": "stream",
     "text": [
      "1. current list =  [30, 10, 20, 50, 40]\n",
      "2. append(60) =  [30, 10, 20, 50, 40, 60]\n",
      "3. item after pop() =  60\n",
      "4. list atfet pop() =  [30, 10, 20, 50, 40]\n",
      "5. after sort() =  [10, 20, 30, 40, 50]\n",
      "6. after reverse() =  [50, 40, 30, 20, 10]\n",
      "7. index for 200 =  3\n",
      "8.after insert(2,222) =  [50, 40, 222, 30, 20, 10]\n",
      "9.after remove(2,222) =  [50, 40, 30, 20, 10]\n",
      "10. after extend([100, 200, 300]) =  [50, 40, 30, 20, 10, 100, 200, 100]\n",
      "11. the number of 100 =  2\n"
     ]
    }
   ],
   "source": [
    "sample_list = [30, 10, 20, 50, 40]     # list를 사용하여 여러 데이터를 한번에 정리할 수 있다.\n",
    "print(\"1. current list = \", sample_list)\n",
    "\n",
    "sample_list.append(60)                 # append를 입력하면 list에 item을 추가할 수 있다.\n",
    "print(\"2. append(60) = \", sample_list)\n",
    "\n",
    "print(\"3. item after pop() = \", sample_list.pop()) # pop을 입력하면 리스트에서 item을 제거하고, item값을 반환한다.\n",
    "print(\"4. list atfet pop() = \", sample_list)       # pop 이후 list에서 item이 사라진 모습\n",
    "\n",
    "sample_list.sort()                                 # sort는 list를 오름차순으로 정렬한다.\n",
    "print(\"5. after sort() = \", sample_list)\n",
    "sample_list.reverse()                              # reverse는 list의 순서를 반대로 바꿔준다.\n",
    "print(\"6. after reverse() = \", sample_list)\n",
    "\n",
    "print(\"7. index for 200 = \", sample_list.index(20))# index는 list에서 해당 item의 Index를 반환한다.\n",
    "\n",
    "sample_list.insert(2,222)                          #insert는 index(2)에 오른쪽 item(222)을 삽입한다.\n",
    "print(\"8.after insert(2,222) = \", sample_list)\n",
    "\n",
    "sample_list.remove(222)                            # remove는 해당 item을 list에서 제거한다.\n",
    "print(\"9.after remove(2,222) = \", sample_list)\n",
    "\n",
    "new_list = [100, 200, 100]                         # extend는 list를 목표 list에 추가한다.\n",
    "sample_list.extend(new_list)\n",
    "print(\"10. after extend([100, 200, 100]) = \", sample_list)\n",
    "\n",
    "print(\"11. the number of 100 = \", sample_list.count(100)) # count는 list 내에서 해당 항목의 개수를 반환한다."
   ]
  },
  {
   "cell_type": "code",
   "execution_count": 5,
   "id": "2684ce8b",
   "metadata": {},
   "outputs": [
    {
     "name": "stdout",
     "output_type": "stream",
     "text": [
      "bye\n"
     ]
    }
   ],
   "source": [
    "import turtle\n",
    "t = turtle.Turtle()\n",
    "\n",
    "t.circle(100)\n",
    "t.fd(20)\n",
    "t.circle(100)\n",
    "t.fd(20)\n",
    "t.circle(100)\n",
    "t.fd(20)\n",
    "turtle.done()\n",
    "\n",
    "try:\n",
    "    turtle.bye()\n",
    "except :\n",
    "    print(\"bye\")"
   ]
  },
  {
   "cell_type": "code",
   "execution_count": 7,
   "id": "ce3d7d1b",
   "metadata": {},
   "outputs": [
    {
     "name": "stdout",
     "output_type": "stream",
     "text": [
      "bye\n"
     ]
    }
   ],
   "source": [
    "import turtle\n",
    "t = turtle.Turtle()\n",
    "\n",
    "#숫자 100,20 대신 radius와 move를 사용한다.\n",
    "radius = 100\n",
    "move = 20\n",
    "\n",
    "t.circle(radius) # 100 반경만큼 원을 그린다.\n",
    "t.fd(move) # 다음 원을 그리기 위해 20만큼 앞으로 이동한다.\n",
    "t.circle(radius)\n",
    "t.fd(move)\n",
    "t.circle(radius)\n",
    "t.fd(move)\n",
    "turtle.done()\n",
    "\n",
    "try:\n",
    "    turtle.bye()\n",
    "except :\n",
    "    print(\"bye\")"
   ]
  }
 ],
 "metadata": {
  "kernelspec": {
   "display_name": "Python 3 (ipykernel)",
   "language": "python",
   "name": "python3"
  },
  "language_info": {
   "codemirror_mode": {
    "name": "ipython",
    "version": 3
   },
   "file_extension": ".py",
   "mimetype": "text/x-python",
   "name": "python",
   "nbconvert_exporter": "python",
   "pygments_lexer": "ipython3",
   "version": "3.11.4"
  }
 },
 "nbformat": 4,
 "nbformat_minor": 5
}
