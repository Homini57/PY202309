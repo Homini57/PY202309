{
 "cells": [
  {
   "cell_type": "code",
   "execution_count": null,
   "id": "a1fed518",
   "metadata": {},
   "outputs": [],
   "source": [
    "import turtle       #라이브러리에서 turtle module을 가져온다\n",
    "t = turtle.Turtle()\n",
    "turtel.done()\n",
    "\n",
    "try:\n",
    "    turtle.bye()\n",
    "except :\n",
    "    print(\"bye\")"
   ]
  },
  {
   "cell_type": "code",
   "execution_count": 6,
   "id": "5d4d6e80",
   "metadata": {},
   "outputs": [
    {
     "name": "stdout",
     "output_type": "stream",
     "text": [
      "bye\n"
     ]
    }
   ],
   "source": [
    "import turtle\n",
    "t = turtle.Turtle()\n",
    "\n",
    "t.shape(\"turtle\")\n",
    "t.forward(100)   #앞으로 100만큼 이동\n",
    "t.left(90)       #왼쪽으로 90도 회전\n",
    "t.forward(50)    #앞으로 50만큼 이동\n",
    "\n",
    "turtle.done()\n",
    "\n",
    "try:\n",
    "    turtle.bye()\n",
    "except :\n",
    "        print(\"bye\")\n"
   ]
  },
  {
   "cell_type": "code",
   "execution_count": 5,
   "id": "cc779f31",
   "metadata": {},
   "outputs": [
    {
     "name": "stdout",
     "output_type": "stream",
     "text": [
      "bye\n"
     ]
    }
   ],
   "source": [
    "import turtle\n",
    "t = turtle.Turtle()\n",
    "\n",
    "t.shape(\"turtle\")\n",
    "t.forward(100)    #앞으로 100만큼 이동\n",
    "t.left(90)        #왼쪽으로 90도 회전\n",
    "t.forward(100)    #앞으로 100만큼 이동\n",
    "t.left(90)        #왼쪽으로 90도 회전\n",
    "t.forward(100)    #앞으로 100만큼 이동\n",
    "t.left(90)        #왼쪽으로 90도 회전\n",
    "t.forward(100)    #앞으로 100만큼 이동\n",
    "\n",
    "turtle.done()     #이동 종료\n",
    "\n",
    "try:\n",
    "    turtle.bye()\n",
    "except:\n",
    "        print(\"bye\")"
   ]
  },
  {
   "cell_type": "code",
   "execution_count": null,
   "id": "8aade9d4",
   "metadata": {},
   "outputs": [],
   "source": []
  }
 ],
 "metadata": {
  "kernelspec": {
   "display_name": "Python 3 (ipykernel)",
   "language": "python",
   "name": "python3"
  },
  "language_info": {
   "codemirror_mode": {
    "name": "ipython",
    "version": 3
   },
   "file_extension": ".py",
   "mimetype": "text/x-python",
   "name": "python",
   "nbconvert_exporter": "python",
   "pygments_lexer": "ipython3",
   "version": "3.11.4"
  }
 },
 "nbformat": 4,
 "nbformat_minor": 5
}
